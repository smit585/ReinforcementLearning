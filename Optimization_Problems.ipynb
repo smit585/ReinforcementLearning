{
  "nbformat": 4,
  "nbformat_minor": 0,
  "metadata": {
    "colab": {
      "name": "Optimization Problems.ipynb",
      "provenance": [],
      "authorship_tag": "ABX9TyPfK7Gdn6dvdWs4WKkFizRd",
      "include_colab_link": true
    },
    "kernelspec": {
      "name": "python3",
      "display_name": "Python 3"
    },
    "language_info": {
      "name": "python"
    }
  },
  "cells": [
    {
      "cell_type": "markdown",
      "metadata": {
        "id": "view-in-github",
        "colab_type": "text"
      },
      "source": [
        "<a href=\"https://colab.research.google.com/github/smit585/ReinforcementLearning/blob/master/Optimization_Problems.ipynb\" target=\"_parent\"><img src=\"https://colab.research.google.com/assets/colab-badge.svg\" alt=\"Open In Colab\"/></a>"
      ]
    },
    {
      "cell_type": "markdown",
      "metadata": {
        "id": "BIdxjhbPaEbl"
      },
      "source": [
        "# Optimization Problem 1\n",
        "\n",
        "\n",
        "\n",
        "> Source: <br>\n",
        "https://www.youtube.com/watch?v=cXHvC_FGx24\n",
        "\n",
        "\n",
        "$min(x_1*x_4*(x_1 + x_2 + x_3) + x_3)$\n",
        "\n",
        "$s.t: $ <br>\n",
        "$  x_1 + x_2 + x_3 + x_4 \\geq 25$ <br>\n",
        "$ x_1^2 + x_2^2 + x_3^2 + x_4^2 = 40$ <br>\n",
        "$ 1 \\leq x_1, x_2, x_3, x_4 \\leq 5$\n",
        "\n",
        "Initial Guess: \n",
        "$ x_0 = (1, 5, 5, 1) $\n",
        "\n",
        "\n"
      ]
    },
    {
      "cell_type": "code",
      "metadata": {
        "id": "cXtvauylVzmB"
      },
      "source": [
        "import numpy as np\n",
        "from scipy.optimize import minimize"
      ],
      "execution_count": 56,
      "outputs": []
    },
    {
      "cell_type": "code",
      "metadata": {
        "id": "z3HDDValV-JK"
      },
      "source": [
        "def objective_fun(x):\n",
        "  x1 = x[0]\n",
        "  x2 = x[1]\n",
        "  x3 = x[2]\n",
        "  x4 = x[3]\n",
        "  return x1*x4*(x1 + x2 + x3) + x3"
      ],
      "execution_count": 57,
      "outputs": []
    },
    {
      "cell_type": "code",
      "metadata": {
        "id": "uqaFcFlPWZ1p"
      },
      "source": [
        "# This constraint is an inequality constraint\n",
        "def constraint1(x):\n",
        "  return x[0]*x[1]*x[2]*x[3] - 25"
      ],
      "execution_count": 58,
      "outputs": []
    },
    {
      "cell_type": "code",
      "metadata": {
        "id": "NI1q-mWPWtVv"
      },
      "source": [
        "# This constraint is an equality constraint\n",
        "def constraint2(x):\n",
        "  return 40 - (x[0]**2 + x[1]**2 + x[2]**2+ x[3]**2)"
      ],
      "execution_count": 59,
      "outputs": []
    },
    {
      "cell_type": "code",
      "metadata": {
        "id": "uGh4BWh5W8LA"
      },
      "source": [
        "# Bounds for all x is [1, 5]\n",
        "b= (1, 5)\n",
        "bounds = (b, b, b, b)\n",
        "\n",
        "# Initial guess:\n",
        "x0 = [1, 5, 5, 1]"
      ],
      "execution_count": 60,
      "outputs": []
    },
    {
      "cell_type": "code",
      "metadata": {
        "id": "IpgGybymXckn"
      },
      "source": [
        "# Array of constraints\n",
        "con1 = {'type': 'ineq', 'fun': constraint1}\n",
        "con2 = {'type': 'eq', 'fun': constraint2}\n",
        "constraints = [con1, con2]"
      ],
      "execution_count": 61,
      "outputs": []
    },
    {
      "cell_type": "code",
      "metadata": {
        "id": "1JZM61I1XFa_"
      },
      "source": [
        "sol = minimize(objective_fun, x0, method='SLSQP', bounds=bounds, constraints=constraints)"
      ],
      "execution_count": 62,
      "outputs": []
    },
    {
      "cell_type": "code",
      "metadata": {
        "colab": {
          "base_uri": "https://localhost:8080/"
        },
        "id": "Y_UMmj9UX5m5",
        "outputId": "ed8af427-dcdd-4da1-aa89-890d9841b20f"
      },
      "source": [
        "print(sol)"
      ],
      "execution_count": 63,
      "outputs": [
        {
          "output_type": "stream",
          "text": [
            "     fun: 17.01401724556073\n",
            "     jac: array([14.57227039,  1.37940764,  2.37940764,  9.56415081])\n",
            " message: 'Optimization terminated successfully.'\n",
            "    nfev: 30\n",
            "     nit: 5\n",
            "    njev: 5\n",
            "  status: 0\n",
            " success: True\n",
            "       x: array([1.        , 4.74299607, 3.82115466, 1.37940764])\n"
          ],
          "name": "stdout"
        }
      ]
    },
    {
      "cell_type": "markdown",
      "metadata": {
        "id": "OY5p6jFZdpzP"
      },
      "source": [
        "# Optimization Problem 2\n",
        "\n"
      ]
    },
    {
      "cell_type": "code",
      "metadata": {
        "id": "mmsLD7L9YPGy"
      },
      "source": [
        ""
      ],
      "execution_count": null,
      "outputs": []
    }
  ]
}