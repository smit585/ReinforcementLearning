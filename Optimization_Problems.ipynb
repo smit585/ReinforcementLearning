{
  "nbformat": 4,
  "nbformat_minor": 0,
  "metadata": {
    "colab": {
      "name": "Optimization Problems.ipynb",
      "provenance": [],
      "collapsed_sections": [],
      "authorship_tag": "ABX9TyMcmui5c5rtAJGaMxTr/oBr",
      "include_colab_link": true
    },
    "kernelspec": {
      "name": "python3",
      "display_name": "Python 3"
    },
    "language_info": {
      "name": "python"
    }
  },
  "cells": [
    {
      "cell_type": "markdown",
      "metadata": {
        "id": "view-in-github",
        "colab_type": "text"
      },
      "source": [
        "<a href=\"https://colab.research.google.com/github/smit585/ReinforcementLearning/blob/master/Optimization_Problems.ipynb\" target=\"_parent\"><img src=\"https://colab.research.google.com/assets/colab-badge.svg\" alt=\"Open In Colab\"/></a>"
      ]
    },
    {
      "cell_type": "markdown",
      "metadata": {
        "id": "9eSXCuJMfCki"
      },
      "source": [
        "# Background \n",
        "\n",
        "## Mathematical Formulation in Standard Form\n",
        "\n",
        "### Nonlinear Programming Problem (NLP): \n",
        "A standard problem formulation in numerical optimization\n",
        "\n",
        "$$min_w  \\phi(w)$$   <br>\n",
        "$s.t:$ <br> \n",
        "$$g_1(w) \\leq 0$$ \n",
        "$$g_2(w) = 0$$\n"
      ]
    },
    {
      "cell_type": "markdown",
      "metadata": {
        "id": "BIdxjhbPaEbl"
      },
      "source": [
        "# Optimization Problem 1\n",
        "\n",
        "\n",
        "\n",
        "> Source: <br>\n",
        "https://www.youtube.com/watch?v=cXHvC_FGx24\n",
        "\n",
        "\n",
        "$min(x_1*x_4*(x_1 + x_2 + x_3) + x_3)$\n",
        "\n",
        "$s.t: $ <br>\n",
        "$  x_1 + x_2 + x_3 + x_4 \\geq 25$ <br>\n",
        "$ x_1^2 + x_2^2 + x_3^2 + x_4^2 = 40$ <br>\n",
        "$ 1 \\leq x_1, x_2, x_3, x_4 \\leq 5$\n",
        "\n",
        "Initial Guess: \n",
        "$ x_0 = (1, 5, 5, 1) $\n",
        "\n",
        "\n"
      ]
    },
    {
      "cell_type": "code",
      "metadata": {
        "id": "cXtvauylVzmB"
      },
      "source": [
        "import numpy as np\n",
        "from scipy.optimize import minimize"
      ],
      "execution_count": 56,
      "outputs": []
    },
    {
      "cell_type": "code",
      "metadata": {
        "id": "z3HDDValV-JK"
      },
      "source": [
        "def objective_fun(x):\n",
        "  x1 = x[0]\n",
        "  x2 = x[1]\n",
        "  x3 = x[2]\n",
        "  x4 = x[3]\n",
        "  return x1*x4*(x1 + x2 + x3) + x3"
      ],
      "execution_count": 57,
      "outputs": []
    },
    {
      "cell_type": "code",
      "metadata": {
        "id": "uqaFcFlPWZ1p"
      },
      "source": [
        "# This constraint is an inequality constraint\n",
        "def constraint1(x):\n",
        "  return x[0]*x[1]*x[2]*x[3] - 25"
      ],
      "execution_count": 58,
      "outputs": []
    },
    {
      "cell_type": "code",
      "metadata": {
        "id": "NI1q-mWPWtVv"
      },
      "source": [
        "# This constraint is an equality constraint\n",
        "def constraint2(x):\n",
        "  return 40 - (x[0]**2 + x[1]**2 + x[2]**2+ x[3]**2)"
      ],
      "execution_count": 59,
      "outputs": []
    },
    {
      "cell_type": "code",
      "metadata": {
        "id": "uGh4BWh5W8LA"
      },
      "source": [
        "# Bounds for all x is [1, 5]\n",
        "b= (1, 5)\n",
        "bounds = (b, b, b, b)\n",
        "\n",
        "# Initial guess:\n",
        "x0 = [1, 5, 5, 1]"
      ],
      "execution_count": 60,
      "outputs": []
    },
    {
      "cell_type": "code",
      "metadata": {
        "id": "IpgGybymXckn"
      },
      "source": [
        "# Array of constraints\n",
        "con1 = {'type': 'ineq', 'fun': constraint1}\n",
        "con2 = {'type': 'eq', 'fun': constraint2}\n",
        "constraints = [con1, con2]"
      ],
      "execution_count": 61,
      "outputs": []
    },
    {
      "cell_type": "code",
      "metadata": {
        "id": "1JZM61I1XFa_"
      },
      "source": [
        "sol = minimize(objective_fun, x0, method='SLSQP', bounds=bounds, constraints=constraints)"
      ],
      "execution_count": 62,
      "outputs": []
    },
    {
      "cell_type": "code",
      "metadata": {
        "colab": {
          "base_uri": "https://localhost:8080/"
        },
        "id": "Y_UMmj9UX5m5",
        "outputId": "ed8af427-dcdd-4da1-aa89-890d9841b20f"
      },
      "source": [
        "print(sol)"
      ],
      "execution_count": 63,
      "outputs": [
        {
          "output_type": "stream",
          "text": [
            "     fun: 17.01401724556073\n",
            "     jac: array([14.57227039,  1.37940764,  2.37940764,  9.56415081])\n",
            " message: 'Optimization terminated successfully.'\n",
            "    nfev: 30\n",
            "     nit: 5\n",
            "    njev: 5\n",
            "  status: 0\n",
            " success: True\n",
            "       x: array([1.        , 4.74299607, 3.82115466, 1.37940764])\n"
          ],
          "name": "stdout"
        }
      ]
    },
    {
      "cell_type": "markdown",
      "metadata": {
        "id": "x6NoXPX41u09"
      },
      "source": [
        "> Source problems 2-4: <br>\n",
        "https://www.youtube.com/watch?v=RrnkPrcpyEA&t=4348s"
      ]
    },
    {
      "cell_type": "markdown",
      "metadata": {
        "id": "OY5p6jFZdpzP"
      },
      "source": [
        "\n",
        "\n",
        "# Optimization Problem 2\n",
        "\n",
        "Find the local minimum of the following function:\n",
        "**$ \\phi(w) = w^2 - 6w + 13$**\n",
        "\n",
        "Optimization Problem\n",
        "\n",
        "$$ min (w^2 - 6w + 13)$$\n",
        "\n",
        "This can be solved analytically too: <br>\n",
        "$$\\frac{d\\phi(w)}{dw} = 2w - 6$$\n",
        "$$w = 3$$"
      ]
    },
    {
      "cell_type": "code",
      "metadata": {
        "colab": {
          "base_uri": "https://localhost:8080/",
          "height": 298
        },
        "id": "mmsLD7L9YPGy",
        "outputId": "5c159f0f-8588-4fb4-dd55-3480c9c7d1e4"
      },
      "source": [
        "import matplotlib.pyplot as plt\n",
        "\n",
        "x = np.linspace(0, 6, num=50)\n",
        "\n",
        "y = np.zeros(x.size)\n",
        "for i in range(x.size):\n",
        "  y[i] = x[i]**2 - 6*x[i] + 13\n",
        "\n",
        "plt.plot(x, y)\n",
        "plt.title('Cost Function')"
      ],
      "execution_count": 72,
      "outputs": [
        {
          "output_type": "execute_result",
          "data": {
            "text/plain": [
              "Text(0.5, 1.0, 'Cost Function')"
            ]
          },
          "metadata": {
            "tags": []
          },
          "execution_count": 72
        },
        {
          "output_type": "display_data",
          "data": {
            "image/png": "[encoded data removed]",
            "text/plain": [
              "<Figure size 432x288 with 1 Axes>"
            ]
          },
          "metadata": {
            "tags": [],
            "needs_background": "light"
          }
        }
      ]
    },
    {
      "cell_type": "markdown",
      "metadata": {
        "id": "SwBKoUp8kzkp"
      },
      "source": [
        "Optimization Problem\n",
        "\n",
        "$$ min (w^2 - 6w + 13)$$\n",
        "\n",
        "Unconstrained and boundless problem\n",
        "\n",
        "Initial Guess = -0.5"
      ]
    },
    {
      "cell_type": "code",
      "metadata": {
        "id": "VO15dYZijKJk"
      },
      "source": [
        "def obf2(w):\n",
        "  return w**2 - 6*w + 13"
      ],
      "execution_count": 88,
      "outputs": []
    },
    {
      "cell_type": "code",
      "metadata": {
        "id": "t67wWwgpl04S"
      },
      "source": [
        "sol = minimize(obf2, x0=-0.5, method='SLSQP')"
      ],
      "execution_count": 89,
      "outputs": []
    },
    {
      "cell_type": "code",
      "metadata": {
        "colab": {
          "base_uri": "https://localhost:8080/"
        },
        "id": "yzBUVRe4m6Ap",
        "outputId": "c42ed5ef-b7ee-4fe8-94cf-b7df60a29ad9"
      },
      "source": [
        "print(sol)"
      ],
      "execution_count": 90,
      "outputs": [
        {
          "output_type": "stream",
          "text": [
            "     fun: 4.0\n",
            "     jac: array([0.])\n",
            " message: 'Optimization terminated successfully.'\n",
            "    nfev: 7\n",
            "     nit: 2\n",
            "    njev: 2\n",
            "  status: 0\n",
            " success: True\n",
            "       x: array([3.])\n"
          ],
          "name": "stdout"
        }
      ]
    },
    {
      "cell_type": "markdown",
      "metadata": {
        "id": "L0lyE95wn5jR"
      },
      "source": [
        "# Optimization Problem 3\n",
        "\n",
        "$$min_w (\\mathrm{e}^{0.2w}*sin(w))$$\n",
        "\n",
        "$s.t.$\n",
        "$$w \\geq 0$$\n",
        "$$w \\leq 4\\pi$$ \n",
        "\n",
        "Initial Guess:\n",
        "$$x_0 = 10$$"
      ]
    },
    {
      "cell_type": "code",
      "metadata": {
        "colab": {
          "base_uri": "https://localhost:8080/",
          "height": 282
        },
        "id": "QS9IIFkZnQkB",
        "outputId": "d38a8f27-37fe-4dd1-87ea-d28fa4475fd9"
      },
      "source": [
        "import math\n",
        "import matplotlib.pyplot as plt\n",
        "\n",
        "w = np.linspace(0, 4*np.pi, num=100)\n",
        "y = np.zeros(w.size)\n",
        "for i in range(w.size):\n",
        "  y[i] = math.exp(0.2*w[i])*np.sin(w[i])\n",
        "\n",
        "plt.plot(w, y)"
      ],
      "execution_count": 99,
      "outputs": [
        {
          "output_type": "execute_result",
          "data": {
            "text/plain": [
              "[<matplotlib.lines.Line2D at 0x7f897dea5390>]"
            ]
          },
          "metadata": {
            "tags": []
          },
          "execution_count": 99
        },
        {
          "output_type": "display_data",
          "data": {
            "image/png": "[encoded data removed]",
            "text/plain": [
              "<Figure size 432x288 with 1 Axes>"
            ]
          },
          "metadata": {
            "tags": [],
            "needs_background": "light"
          }
        }
      ]
    },
    {
      "cell_type": "markdown",
      "metadata": {
        "id": "j-8XDfHLppzP"
      },
      "source": [
        "We see that there are two minimum of this function in $[0, 4\\pi]$ <br>\n",
        "$0$ is also a local minimum here as in the range its neighbourhood only increases in value.\n",
        "\n",
        "Therefore initial guess is important for us otherwise we will be stuck at a local minimum instead"
      ]
    },
    {
      "cell_type": "code",
      "metadata": {
        "id": "GySEgvvuo1B0"
      },
      "source": [
        "def ob3(w):\n",
        "  return math.exp(0.2*w)*np.sin(w)"
      ],
      "execution_count": 100,
      "outputs": []
    },
    {
      "cell_type": "code",
      "metadata": {
        "id": "djf2qRKYqYTQ"
      },
      "source": [
        "bounds = [(0, 4*np.pi)]\n",
        "x0 = [10]"
      ],
      "execution_count": 110,
      "outputs": []
    },
    {
      "cell_type": "code",
      "metadata": {
        "id": "3hg8juQuqhse"
      },
      "source": [
        "# Change the initial x0, sol.x will change accordingly\n",
        "# x0 = 1; sol.x = 0\n",
        "# x0 = 4; sol.x = 4.9098\n",
        "# x0 = 10;sol.x = 11.1929\n",
        "sol = minimize(ob3, x0=10, method='SLSQP', bounds=bounds)"
      ],
      "execution_count": 113,
      "outputs": []
    },
    {
      "cell_type": "code",
      "metadata": {
        "colab": {
          "base_uri": "https://localhost:8080/"
        },
        "id": "RoEbhp36r4Yp",
        "outputId": "e71d8bf2-b45a-4ef9-9ab3-bb871f40c652"
      },
      "source": [
        "print(sol)"
      ],
      "execution_count": 114,
      "outputs": [
        {
          "output_type": "stream",
          "text": [
            "     fun: -9.197977391818991\n",
            "     jac: array([-0.00055301])\n",
            " message: 'Optimization terminated successfully.'\n",
            "    nfev: 16\n",
            "     nit: 5\n",
            "    njev: 5\n",
            "  status: 0\n",
            " success: True\n",
            "       x: array([11.19291205])\n"
          ],
          "name": "stdout"
        }
      ]
    },
    {
      "cell_type": "markdown",
      "metadata": {
        "id": "oDpcucGntOhQ"
      },
      "source": [
        "# Optimization Problem 4\n",
        "\n",
        "This is a linear regression problem. For the following set of data points, \n",
        "fit a straight line of the form\n",
        "\n",
        "$$y = mx + c$$\n",
        "\n",
        "*   Here, we minimize the sum of squared errors, between the line and the data points (Least Squares) \n",
        "*   Two optimization variables (m and c)\n",
        "\n",
        "Objective Function:\n",
        "\n",
        "$$\\phi(m, c) = \\sum_{i=1}^{n_{data}}(y(i)- (m.x(i) + c))^2$$\n",
        "\n",
        "$$min_{m,c}(\\phi(m, c))$$\n",
        "\n",
        "\n",
        "Initial Guess:\n",
        "$$m = 0.5, c = 1$$ \n",
        "\n"
      ]
    },
    {
      "cell_type": "code",
      "metadata": {
        "colab": {
          "base_uri": "https://localhost:8080/",
          "height": 282
        },
        "id": "LSC8BnUpsexI",
        "outputId": "5bc249a6-202f-484e-d7cb-99eb9cbddfdb"
      },
      "source": [
        "import matplotlib.pyplot as plt\n",
        "\n",
        "x = np.array([0, 45, 90, 135, 180])\n",
        "y = np.array([667, 661, 757, 871, 1210])\n",
        "\n",
        "plt.plot(x, y, '*')"
      ],
      "execution_count": 144,
      "outputs": [
        {
          "output_type": "execute_result",
          "data": {
            "text/plain": [
              "[<matplotlib.lines.Line2D at 0x7f897dd39550>]"
            ]
          },
          "metadata": {
            "tags": []
          },
          "execution_count": 144
        },
        {
          "output_type": "display_data",
          "data": {
            "image/png": "[encoded data removed]",
            "text/plain": [
              "<Figure size 432x288 with 1 Axes>"
            ]
          },
          "metadata": {
            "tags": [],
            "needs_background": "light"
          }
        }
      ]
    },
    {
      "cell_type": "markdown",
      "metadata": {
        "id": "OCyXNDsJvSNL"
      },
      "source": [
        "This is the data that we have, we need to find the equation of the line that minimizes the least square errors of all the points"
      ]
    },
    {
      "cell_type": "code",
      "metadata": {
        "id": "ruw8VgvsvEf3"
      },
      "source": [
        "def obj4(w):\n",
        "  obj = 0\n",
        "  m = w[0]\n",
        "  c = w[1]\n",
        "  for i in range(x.size):\n",
        "    obj += (y[i] - (m*x[i] + c))**2\n",
        "\n",
        "  return obj"
      ],
      "execution_count": 145,
      "outputs": []
    },
    {
      "cell_type": "code",
      "metadata": {
        "id": "E2n93ML6x_w8"
      },
      "source": [
        "x0 = [0.5, 1]"
      ],
      "execution_count": 146,
      "outputs": []
    },
    {
      "cell_type": "code",
      "metadata": {
        "id": "Cgcz9S3zymvC"
      },
      "source": [
        "sol = minimize(obj4, x0, method='SLSQP')"
      ],
      "execution_count": 147,
      "outputs": []
    },
    {
      "cell_type": "code",
      "metadata": {
        "colab": {
          "base_uri": "https://localhost:8080/"
        },
        "id": "TlxUt60zyznS",
        "outputId": "fbd57c8c-8188-4c42-88b1-584a247b6814"
      },
      "source": [
        "print(sol)"
      ],
      "execution_count": 148,
      "outputs": [
        {
          "output_type": "stream",
          "text": [
            "     fun: 38527.20000000125\n",
            "     jac: array([ 0.        , -0.00048828])\n",
            " message: 'Optimization terminated successfully.'\n",
            "    nfev: 26\n",
            "     nit: 5\n",
            "    njev: 5\n",
            "  status: 0\n",
            " success: True\n",
            "       x: array([  2.88000019, 573.99997274])\n"
          ],
          "name": "stdout"
        }
      ]
    },
    {
      "cell_type": "code",
      "metadata": {
        "id": "-nzRVqIMzJmn"
      },
      "source": [
        "slope = sol.x[0]\n",
        "interc = sol.x[1]\n",
        "\n",
        "point1_x = 0\n",
        "point1_y = interc\n",
        "\n",
        "point2_x = 180\n",
        "point2_y = slope*point2_x + interc"
      ],
      "execution_count": 149,
      "outputs": []
    },
    {
      "cell_type": "code",
      "metadata": {
        "colab": {
          "base_uri": "https://localhost:8080/",
          "height": 282
        },
        "id": "fMEm1Hfo1DJc",
        "outputId": "cbb2f029-51c2-4b65-bc82-a80ce51c4f64"
      },
      "source": [
        "plt.plot(x, y, '*')\n",
        "plt.plot([point1_x, point2_x], [point1_y, point2_y])"
      ],
      "execution_count": 151,
      "outputs": [
        {
          "output_type": "execute_result",
          "data": {
            "text/plain": [
              "[<matplotlib.lines.Line2D at 0x7f897db50dd0>]"
            ]
          },
          "metadata": {
            "tags": []
          },
          "execution_count": 151
        },
        {
          "output_type": "display_data",
          "data": {
            "image/png": "[encoded data removed]",
            "text/plain": [
              "<Figure size 432x288 with 1 Axes>"
            ]
          },
          "metadata": {
            "tags": [],
            "needs_background": "light"
          }
        }
      ]
    },
    {
      "cell_type": "markdown",
      "metadata": {
        "id": "U3-RCcnF1W2l"
      },
      "source": [
        "Thus, the line with the given slope and intercept provides the least squared sum for the given data points."
      ]
    },
    {
      "cell_type": "markdown",
      "metadata": {
        "id": "eK6EOZk41_-e"
      },
      "source": [
        "> Source problem: <br>\n",
        "https://www.youtube.com/watch?v=M7ZA9fq2zCE\n",
        "\n",
        "# Optimization Problem 5\n",
        "\n",
        "Objective Function:\n",
        "\n",
        "$$min(x_1^2 + x_1*x_2)$$\n",
        "$s.t.$\n",
        "\n",
        "$$x_1^3 + x_1*x_2 = 100$$\n",
        "$$x_1^3 + x_1*x_2 \\geq 50$$\n",
        "\n",
        "$$-100 \\leq x_1, x_2 \\leq 100$$\n",
        "\n",
        "Initial Value:\n",
        "$$x0 = [1, 1]$$\n"
      ]
    },
    {
      "cell_type": "code",
      "metadata": {
        "id": "PvK0xpdP1PJc"
      },
      "source": [
        "def obj5(x):\n",
        "  x1 = x[0]\n",
        "  x2 = x[1]\n",
        "\n",
        "  return x1**2 + x1*x2"
      ],
      "execution_count": 161,
      "outputs": []
    },
    {
      "cell_type": "code",
      "metadata": {
        "id": "QzK0HZIo3BqR"
      },
      "source": [
        "def equality_constraint(x):\n",
        "  x1 = x[0]\n",
        "  x2 = x[1]\n",
        "\n",
        "  return 100 - (x1**3 + x1*x2)\n"
      ],
      "execution_count": 162,
      "outputs": []
    },
    {
      "cell_type": "code",
      "metadata": {
        "id": "glOWPXuy3RDa"
      },
      "source": [
        "def inequality_constraint(x):\n",
        "  x1 = x[0]\n",
        "  x2 = x[1]\n",
        "\n",
        "  return x1*3 + x1*x2 - 50 "
      ],
      "execution_count": 163,
      "outputs": []
    },
    {
      "cell_type": "code",
      "metadata": {
        "id": "WsJBR0p93axe"
      },
      "source": [
        "b = (-100, 100)\n",
        "bounds = (b, b)\n",
        "\n",
        "constraint1 = {'type' : 'eq', 'fun': equality_constraint}\n",
        "constraint2 = {'type' : 'ineq', 'fun': inequality_constraint}\n",
        "\n",
        "constraints = (constraint1, constraint2)\n",
        "\n",
        "x0 = [1, 1]"
      ],
      "execution_count": 164,
      "outputs": []
    },
    {
      "cell_type": "code",
      "metadata": {
        "id": "_K4AqYmW4hWU"
      },
      "source": [
        "sol = minimize(obj5, x0, method='SLSQP', bounds=bounds, constraints=constraints)"
      ],
      "execution_count": 165,
      "outputs": []
    },
    {
      "cell_type": "code",
      "metadata": {
        "colab": {
          "base_uri": "https://localhost:8080/"
        },
        "id": "dsoPqzkV5FWr",
        "outputId": "21a5aefd-1ec0-4120-d53b-f4c6034e39d5"
      },
      "source": [
        "print(sol)"
      ],
      "execution_count": 166,
      "outputs": [
        {
          "output_type": "stream",
          "text": [
            "     fun: 53.77711343103649\n",
            "     jac: array([17.55220366,  3.95501804])\n",
            " message: 'Optimization terminated successfully.'\n",
            "    nfev: 25\n",
            "     nit: 6\n",
            "    njev: 6\n",
            "  status: 0\n",
            " success: True\n",
            "       x: array([3.95501801, 9.64216746])\n"
          ],
          "name": "stdout"
        }
      ]
    },
    {
      "cell_type": "code",
      "metadata": {
        "id": "LqqehJj85G1K"
      },
      "source": [
        ""
      ],
      "execution_count": null,
      "outputs": []
    }
  ]
}